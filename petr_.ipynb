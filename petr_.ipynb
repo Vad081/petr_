{
 "cells": [
  {
   "cell_type": "code",
   "execution_count": 93,
   "metadata": {},
   "outputs": [],
   "source": [
    "import pandas as pd\n",
    "import numpy as np\n",
    "import datetime\n",
    "import re"
   ]
  },
  {
   "cell_type": "code",
   "execution_count": 94,
   "metadata": {},
   "outputs": [],
   "source": [
    "df = pd.read_csv('/Users/vadvad/Desktop/петрович/Dataset_points.csv',sep='\\t',parse_dates=True)"
   ]
  },
  {
   "cell_type": "code",
   "execution_count": 95,
   "metadata": {},
   "outputs": [],
   "source": [
    "# умножаем на -1 те значения очков которые списываются, чтобы при суммировании они вычлись \n",
    "df['points'] = np.where(df.recordkind == 1, -1*df.points, df.points)"
   ]
  },
  {
   "cell_type": "code",
   "execution_count": 96,
   "metadata": {},
   "outputs": [],
   "source": [
    "#колонку со временем делаем дэйтайм\n",
    "df.period = pd.to_datetime(df.period)\n",
    "#делаем колонку с месяцем транзакции\n",
    "df['month'] = df.period.dt.month\n",
    "#делаем колонку с отчетным месяцем( в котором будут учитываться быллы)\n",
    "df['result_month'] = 0\n",
    "df['result_month'] = np.where(df.month != 12, df.month+1, 1)\n",
    "#делаем колонку с годом транзакции\n",
    "df['year'] = df.period.dt.year\n",
    "#делаем колонку с отчетным годом( в котором будут учитываться быллы)\n",
    "df['result_year'] = np.where(df.result_month != 1, df.year, df.year+1)\n",
    "#приводим его в нужный формат\n",
    "df['result_date'] = df.result_year.map(str)+'-'+df.result_month.map(str)+'-'+'1'\n",
    "#приводим его в дэйттайм\n",
    "df['result_date'] = pd.to_datetime(df.result_date)"
   ]
  },
  {
   "cell_type": "code",
   "execution_count": 97,
   "metadata": {},
   "outputs": [],
   "source": [
    "#отбираем нужные столбцы\n",
    "group_columns = df.groupby(['result_date','customerid']).agg({'points':'sum'}).sort_values(by='result_date').reset_index()"
   ]
  },
  {
   "cell_type": "code",
   "execution_count": 98,
   "metadata": {},
   "outputs": [],
   "source": [
    "#группирем с кумулятивной суммой\n",
    "cumsum_group = group_columns.groupby(by=['result_date','customerid']).sum().groupby(level=[1]).cumsum().reset_index()"
   ]
  },
  {
   "cell_type": "code",
   "execution_count": 99,
   "metadata": {},
   "outputs": [],
   "source": [
    "#делаем остатки целыми числами\n",
    "cumsum_group.points = cumsum_group.points.map(int)"
   ]
  },
  {
   "cell_type": "code",
   "execution_count": 100,
   "metadata": {},
   "outputs": [],
   "source": [
    "#убираем нулевые остатки\n",
    "cumsum_group = cumsum_group.query('points > 0')"
   ]
  },
  {
   "cell_type": "code",
   "execution_count": 102,
   "metadata": {},
   "outputs": [],
   "source": [
    "cumsum_group.rename(columns={'result_date':'date'},inplace=True)"
   ]
  },
  {
   "cell_type": "code",
   "execution_count": 105,
   "metadata": {},
   "outputs": [],
   "source": [
    "cumsum_group.to_csv('petro1.csv',index=False)"
   ]
  },
  {
   "cell_type": "code",
   "execution_count": 106,
   "metadata": {},
   "outputs": [],
   "source": [
    "cumsum_group.to_excel('petro1.xlsx',index=False)"
   ]
  },
  {
   "cell_type": "code",
   "execution_count": null,
   "metadata": {},
   "outputs": [],
   "source": []
  }
 ],
 "metadata": {
  "kernelspec": {
   "display_name": "Python 3",
   "language": "python",
   "name": "python3"
  },
  "language_info": {
   "codemirror_mode": {
    "name": "ipython",
    "version": 3
   },
   "file_extension": ".py",
   "mimetype": "text/x-python",
   "name": "python",
   "nbconvert_exporter": "python",
   "pygments_lexer": "ipython3",
   "version": "3.7.6"
  }
 },
 "nbformat": 4,
 "nbformat_minor": 4
}
